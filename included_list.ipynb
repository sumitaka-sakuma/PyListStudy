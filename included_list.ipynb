{
 "cells": [
  {
   "cell_type": "code",
   "execution_count": 7,
   "metadata": {},
   "outputs": [
    {
     "data": {
      "text/plain": [
       "[0, 1, 2, 3, 4, 5, 6, 7, 8, 9]"
      ]
     },
     "execution_count": 7,
     "metadata": {},
     "output_type": "execute_result"
    }
   ],
   "source": [
    "# 通常のfor文\n",
    "list = []\n",
    "for i in range(10):\n",
    "    list.append(i)\n",
    "list"
   ]
  },
  {
   "cell_type": "code",
   "execution_count": 8,
   "metadata": {},
   "outputs": [
    {
     "data": {
      "text/plain": [
       "[0, 1, 2, 3, 4, 5, 6, 7, 8, 9]"
      ]
     },
     "execution_count": 8,
     "metadata": {},
     "output_type": "execute_result"
    }
   ],
   "source": [
    "# リスト内包表記\n",
    "included_list = [i for i in range(10)]\n",
    "included_list"
   ]
  },
  {
   "cell_type": "code",
   "execution_count": 9,
   "metadata": {},
   "outputs": [
    {
     "data": {
      "text/plain": [
       "[0, 2, 4, 6, 8]"
      ]
     },
     "execution_count": 9,
     "metadata": {},
     "output_type": "execute_result"
    }
   ],
   "source": [
    "# for分の中のif文の処理\n",
    "list2 = []\n",
    "for i in range(10):\n",
    "    if i%2 == 0:\n",
    "       list2.append(i)\n",
    "list2"
   ]
  },
  {
   "cell_type": "code",
   "execution_count": 14,
   "metadata": {},
   "outputs": [
    {
     "data": {
      "text/plain": [
       "[0, 2, 4, 6, 8]"
      ]
     },
     "execution_count": 14,
     "metadata": {},
     "output_type": "execute_result"
    }
   ],
   "source": [
    "# リスト内包表記でのif文処理\n",
    "included_list2 = [i for i in range(10) if i%2 == 0]\n",
    "included_list2"
   ]
  },
  {
   "cell_type": "code",
   "execution_count": 16,
   "metadata": {},
   "outputs": [
    {
     "data": {
      "text/plain": [
       "{'key1': 'val1', 'key2': 'val2', 'key3': 'val3'}"
      ]
     },
     "execution_count": 16,
     "metadata": {},
     "output_type": "execute_result"
    }
   ],
   "source": [
    "# 辞書型の内包表記\n",
    "key = [\"key1\", \"key2\", \"key3\"]\n",
    "val = [\"val1\", \"val2\", \"val3\"]\n",
    "length = len(key)\n",
    "\n",
    "dict = {key[i]:val[i] for i in range(length)}\n",
    "dict"
   ]
  },
  {
   "cell_type": "code",
   "execution_count": 28,
   "metadata": {},
   "outputs": [
    {
     "name": "stdout",
     "output_type": "stream",
     "text": [
      "1: apple\n",
      "2: grape\n",
      "3: banana\n"
     ]
    }
   ],
   "source": [
    "# リストを、インデックス：　要素の形にする（通常の書き方）\n",
    "fruits = [\"apple\", \"grape\", \"banana\"]\n",
    "for index1, fruit in enumerate(fruits, 1):\n",
    "    print(\"{}: {}\".format(index1, fruit))"
   ]
  },
  {
   "cell_type": "code",
   "execution_count": 29,
   "metadata": {},
   "outputs": [
    {
     "data": {
      "text/plain": [
       "['1: Tokyo', '2: Nagoya', '3: Osaka']"
      ]
     },
     "execution_count": 29,
     "metadata": {},
     "output_type": "execute_result"
    }
   ],
   "source": [
    "# enumerate関数（内包表記）\n",
    "cities = [\"Tokyo\", \"Nagoya\", \"Osaka\"]\n",
    "enu = [\"{}: {}\".format(index2,city) for index2,city in enumerate(cities,1)]\n",
    "enu"
   ]
  },
  {
   "cell_type": "code",
   "execution_count": 30,
   "metadata": {},
   "outputs": [
    {
     "data": {
      "text/plain": [
       "['名前:Tom 年齢:30 得点:65', '名前:John 年齢:40 得点:70', '名前:Mary 年齢:20 得点:80']"
      ]
     },
     "execution_count": 30,
     "metadata": {},
     "output_type": "execute_result"
    }
   ],
   "source": [
    "# zip関数（内包表記）\n",
    "names = [\"Tom\", \"John\", \"Mary\"]\n",
    "ages = [30, 40, 20]\n",
    "points = [65, 70, 80]\n",
    "\n",
    "[\"名前:{} 年齢:{} 得点:{}\".format(name,age,point) for name,age,point in zip(names,ages,points)]"
   ]
  },
  {
   "cell_type": "code",
   "execution_count": null,
   "metadata": {},
   "outputs": [],
   "source": []
  }
 ],
 "metadata": {
  "kernelspec": {
   "display_name": "Python 3",
   "language": "python",
   "name": "python3"
  },
  "language_info": {
   "codemirror_mode": {
    "name": "ipython",
    "version": 3
   },
   "file_extension": ".py",
   "mimetype": "text/x-python",
   "name": "python",
   "nbconvert_exporter": "python",
   "pygments_lexer": "ipython3",
   "version": "3.8.5"
  }
 },
 "nbformat": 4,
 "nbformat_minor": 4
}
